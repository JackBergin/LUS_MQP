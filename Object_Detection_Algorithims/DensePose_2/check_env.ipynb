{
 "cells": [
  {
   "cell_type": "code",
   "execution_count": 2,
   "metadata": {},
   "outputs": [
    {
     "name": "stdout",
     "output_type": "stream",
     "text": [
      "True\n",
      "True\n",
      "1.0.1.post2\n",
      "10.0.130\n",
      "7402\n"
     ]
    }
   ],
   "source": [
    "import torch\n",
    "from torch.backends import cudnn\n",
    "\n",
    "print(torch.cuda.is_available())\n",
    "print(cudnn.is_available())\n",
    "\n",
    "print(torch.__version__)\n",
    "print(torch.version.cuda)\n",
    "print(torch.backends.cudnn.version())\n"
   ]
  },
  {
   "cell_type": "code",
   "execution_count": 3,
   "metadata": {},
   "outputs": [
    {
     "data": {
      "text/plain": [
       "'/opt/ros/noetic/share/rospy'"
      ]
     },
     "execution_count": 3,
     "metadata": {},
     "output_type": "execute_result"
    }
   ],
   "source": [
    "import rospkg\n",
    "ros_root = rospkg.get_ros_root()\n",
    "\n",
    "r = rospkg.RosPack()\n",
    "depends = r.get_depends('roscpp')\n",
    "path = r.get_path('rospy')\n",
    "path"
   ]
  }
 ],
 "metadata": {
  "kernelspec": {
   "display_name": "Python 2",
   "language": "python",
   "name": "python2"
  },
  "language_info": {
   "codemirror_mode": {
    "name": "ipython",
    "version": 2
   },
   "file_extension": ".py",
   "mimetype": "text/x-python",
   "name": "python",
   "nbconvert_exporter": "python",
   "pygments_lexer": "ipython2",
   "version": "2.7.16"
  }
 },
 "nbformat": 4,
 "nbformat_minor": 2
}
