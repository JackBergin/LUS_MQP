{
 "cells": [
  {
   "cell_type": "markdown",
   "metadata": {},
   "source": [
    "# detectron2-DensePose test"
   ]
  },
  {
   "cell_type": "markdown",
   "metadata": {},
   "source": [
    "### verify torch"
   ]
  },
  {
   "cell_type": "code",
   "execution_count": 1,
   "metadata": {},
   "outputs": [
    {
     "name": "stdout",
     "output_type": "stream",
     "text": [
      "1.12.0 True\n"
     ]
    }
   ],
   "source": [
    "import torch, torchvision\n",
    "print(torch.__version__, torch.cuda.is_available())"
   ]
  },
  {
   "cell_type": "markdown",
   "metadata": {},
   "source": [
    "### execute DensePose"
   ]
  },
  {
   "cell_type": "code",
   "execution_count": 3,
   "metadata": {},
   "outputs": [
    {
     "name": "stdout",
     "output_type": "stream",
     "text": [
      "Traceback (most recent call last):\n",
      "  File \"/home/medfuslab/Documents/GitHub/LUS_MQP/Object_Detection_Algorithims/Detectron_2/apply_net.py\", line 14, in <module>\n",
      "    from detectron2.data.detection_utils import read_image\n",
      "  File \"/home/medfuslab/anaconda3/lib/python3.9/site-packages/detectron2/data/__init__.py\", line 4, in <module>\n",
      "    from .build import (\n",
      "  File \"/home/medfuslab/anaconda3/lib/python3.9/site-packages/detectron2/data/build.py\", line 13, in <module>\n",
      "    from detectron2.structures import BoxMode\n",
      "  File \"/home/medfuslab/anaconda3/lib/python3.9/site-packages/detectron2/structures/__init__.py\", line 3, in <module>\n",
      "    from .image_list import ImageList\n",
      "  File \"/home/medfuslab/anaconda3/lib/python3.9/site-packages/detectron2/structures/image_list.py\", line 8, in <module>\n",
      "    from detectron2.layers.wrappers import shapes_to_tensor\n",
      "  File \"/home/medfuslab/anaconda3/lib/python3.9/site-packages/detectron2/layers/__init__.py\", line 3, in <module>\n",
      "    from .deform_conv import DeformConv, ModulatedDeformConv\n",
      "  File \"/home/medfuslab/anaconda3/lib/python3.9/site-packages/detectron2/layers/deform_conv.py\", line 11, in <module>\n",
      "    from detectron2 import _C\n",
      "ImportError: /home/medfuslab/anaconda3/lib/python3.9/site-packages/detectron2/_C.cpython-39-x86_64-linux-gnu.so: undefined symbol: _ZNK3c1010TensorImpl36is_contiguous_nondefault_policy_implENS_12MemoryFormatE\n",
      "Traceback (most recent call last):\n",
      "  File \"/home/medfuslab/Documents/GitHub/LUS_MQP/Object_Detection_Algorithims/Detectron_2/apply_net.py\", line 14, in <module>\n",
      "    from detectron2.data.detection_utils import read_image\n",
      "  File \"/home/medfuslab/anaconda3/lib/python3.9/site-packages/detectron2/data/__init__.py\", line 4, in <module>\n",
      "    from .build import (\n",
      "  File \"/home/medfuslab/anaconda3/lib/python3.9/site-packages/detectron2/data/build.py\", line 13, in <module>\n",
      "    from detectron2.structures import BoxMode\n",
      "  File \"/home/medfuslab/anaconda3/lib/python3.9/site-packages/detectron2/structures/__init__.py\", line 3, in <module>\n",
      "    from .image_list import ImageList\n",
      "  File \"/home/medfuslab/anaconda3/lib/python3.9/site-packages/detectron2/structures/image_list.py\", line 8, in <module>\n",
      "    from detectron2.layers.wrappers import shapes_to_tensor\n",
      "  File \"/home/medfuslab/anaconda3/lib/python3.9/site-packages/detectron2/layers/__init__.py\", line 3, in <module>\n",
      "    from .deform_conv import DeformConv, ModulatedDeformConv\n",
      "  File \"/home/medfuslab/anaconda3/lib/python3.9/site-packages/detectron2/layers/deform_conv.py\", line 11, in <module>\n",
      "    from detectron2 import _C\n",
      "ImportError: /home/medfuslab/anaconda3/lib/python3.9/site-packages/detectron2/_C.cpython-39-x86_64-linux-gnu.so: undefined symbol: _ZNK3c1010TensorImpl36is_contiguous_nondefault_policy_implENS_12MemoryFormatE\n",
      "Traceback (most recent call last):\n",
      "  File \"/home/medfuslab/Documents/GitHub/LUS_MQP/Object_Detection_Algorithims/Detectron_2/apply_net.py\", line 14, in <module>\n",
      "    from detectron2.data.detection_utils import read_image\n",
      "  File \"/home/medfuslab/anaconda3/lib/python3.9/site-packages/detectron2/data/__init__.py\", line 4, in <module>\n",
      "    from .build import (\n",
      "  File \"/home/medfuslab/anaconda3/lib/python3.9/site-packages/detectron2/data/build.py\", line 13, in <module>\n",
      "    from detectron2.structures import BoxMode\n",
      "  File \"/home/medfuslab/anaconda3/lib/python3.9/site-packages/detectron2/structures/__init__.py\", line 3, in <module>\n",
      "    from .image_list import ImageList\n",
      "  File \"/home/medfuslab/anaconda3/lib/python3.9/site-packages/detectron2/structures/image_list.py\", line 8, in <module>\n",
      "    from detectron2.layers.wrappers import shapes_to_tensor\n",
      "  File \"/home/medfuslab/anaconda3/lib/python3.9/site-packages/detectron2/layers/__init__.py\", line 3, in <module>\n",
      "    from .deform_conv import DeformConv, ModulatedDeformConv\n",
      "  File \"/home/medfuslab/anaconda3/lib/python3.9/site-packages/detectron2/layers/deform_conv.py\", line 11, in <module>\n",
      "    from detectron2 import _C\n",
      "ImportError: /home/medfuslab/anaconda3/lib/python3.9/site-packages/detectron2/_C.cpython-39-x86_64-linux-gnu.so: undefined symbol: _ZNK3c1010TensorImpl36is_contiguous_nondefault_policy_implENS_12MemoryFormatE\n",
      "Traceback (most recent call last):\n",
      "  File \"/home/medfuslab/Documents/GitHub/LUS_MQP/Object_Detection_Algorithims/Detectron_2/apply_net.py\", line 14, in <module>\n",
      "    from detectron2.data.detection_utils import read_image\n",
      "  File \"/home/medfuslab/anaconda3/lib/python3.9/site-packages/detectron2/data/__init__.py\", line 4, in <module>\n",
      "    from .build import (\n",
      "  File \"/home/medfuslab/anaconda3/lib/python3.9/site-packages/detectron2/data/build.py\", line 13, in <module>\n",
      "    from detectron2.structures import BoxMode\n",
      "  File \"/home/medfuslab/anaconda3/lib/python3.9/site-packages/detectron2/structures/__init__.py\", line 3, in <module>\n",
      "    from .image_list import ImageList\n",
      "  File \"/home/medfuslab/anaconda3/lib/python3.9/site-packages/detectron2/structures/image_list.py\", line 8, in <module>\n",
      "    from detectron2.layers.wrappers import shapes_to_tensor\n",
      "  File \"/home/medfuslab/anaconda3/lib/python3.9/site-packages/detectron2/layers/__init__.py\", line 3, in <module>\n",
      "    from .deform_conv import DeformConv, ModulatedDeformConv\n",
      "  File \"/home/medfuslab/anaconda3/lib/python3.9/site-packages/detectron2/layers/deform_conv.py\", line 11, in <module>\n",
      "    from detectron2 import _C\n",
      "ImportError: /home/medfuslab/anaconda3/lib/python3.9/site-packages/detectron2/_C.cpython-39-x86_64-linux-gnu.so: undefined symbol: _ZNK3c1010TensorImpl36is_contiguous_nondefault_policy_implENS_12MemoryFormatE\n"
     ]
    }
   ],
   "source": [
    "# ===== visualize segmentation =====\n",
    "#!python3 apply_net.py show /home/medfuslab/Documents/GitHub/LUS_MQP/Object_Detection_Algorithims/Detectron_2/configs/densepose_rcnn_R_50_FPN_s1x_legacy.yaml /home/medfuslab/Documents/GitHub/LUS_MQP/Object_Detection_Algorithims/Detectron_2/DensePoseData/DensePose_ResNet101_FPN_s1x-e2e.pkl /home/medfuslab/Documents/GitHub/LUS_MQP/Object_Detection_Algorithims/Detectron_2/DensePoseData/Randy.jpg dp_segm --output /home/medfuslab/Documents/GitHub/LUS_MQP/Object_Detection_Algorithims/Detectron_2/results/densepose_segment.png\n",
    "python3 apply_net.py show configs/densepose_rcnn_R_50_FPN_s1x_legacy.yaml DensePoseData/DensePose_ResNet101_FPN_s1x-e2e.pkl DensePoseData/Randy.jpg dp_segm --output results/densepose_segment.png\n",
    "# ===== visualize contour =====\n",
    "!python3 apply_net.py show Object_Detection_Algorithims/Detectron_2/configs/densepose_rcnn_R_50_FPN_s1x_legacy.yaml Object_Detection_Algorithims/Detectron_2/DensePoseData/DensePose_ResNet101_FPN_s1x-e2e.pkl Object_Detection_Algorithims/Detectron_2/DensePoseData/Randy.jpg dp_contour --output Object_Detection_Algorithims/Detectron_2/results/densepose_contour.png\n",
    "\n",
    "# ===== visualize u/v =====\n",
    "!python3 apply_net.py show Object_Detection_Algorithims/Detectron_2/configs/densepose_rcnn_R_50_FPN_s1x_legacy.yaml Object_Detection_Algorithims/Detectron_2/DensePoseData/DensePose_ResNet101_FPN_s1x-e2e.pkl Object_Detection_Algorithims/Detectron_2/DensePoseData/Randy.jpg dp_u --output Object_Detection_Algorithims/Detectron_2/results/densepose_u.png\n",
    "!python3 apply_net.py show Object_Detection_Algorithims/Detectron_2/configs/densepose_rcnn_R_50_FPN_s1x_legacy.yaml Object_Detection_Algorithims/Detectron_2/DensePoseData/DensePose_ResNet101_FPN_s1x-e2e.pkl Object_Detection_Algorithims/Detectron_2/DensePoseData/Randy.jpg dp_v --output Object_Detection_Algorithims/Detectron_2/results/densepose_v.png\n",
    "\n",
    "\n"
   ]
  },
  {
   "cell_type": "markdown",
   "metadata": {},
   "source": [
    "### visualize DensePose output"
   ]
  },
  {
   "cell_type": "code",
   "execution_count": 4,
   "metadata": {},
   "outputs": [
    {
     "ename": "NameError",
     "evalue": "name 'im' is not defined",
     "output_type": "error",
     "traceback": [
      "\u001b[0;31m---------------------------------------------------------------------------\u001b[0m",
      "\u001b[0;31mNameError\u001b[0m                                 Traceback (most recent call last)",
      "Input \u001b[0;32mIn [4]\u001b[0m, in \u001b[0;36m<cell line: 9>\u001b[0;34m()\u001b[0m\n\u001b[1;32m      6\u001b[0m im_u \u001b[38;5;241m=\u001b[39m cv2\u001b[38;5;241m.\u001b[39mimread(\u001b[38;5;124m\"\u001b[39m\u001b[38;5;124mDensePoseData/densepose_u.0001.png\u001b[39m\u001b[38;5;124m\"\u001b[39m)\n\u001b[1;32m      7\u001b[0m im_v \u001b[38;5;241m=\u001b[39m cv2\u001b[38;5;241m.\u001b[39mimread(\u001b[38;5;124m\"\u001b[39m\u001b[38;5;124mDensePoseData/densepose_v.0001.png\u001b[39m\u001b[38;5;124m\"\u001b[39m)\n\u001b[0;32m----> 9\u001b[0m \u001b[38;5;28mprint\u001b[39m(\u001b[43mim\u001b[49m\u001b[38;5;241m.\u001b[39mshape)\n\u001b[1;32m     11\u001b[0m plt\u001b[38;5;241m.\u001b[39mrcParams[\u001b[38;5;124m\"\u001b[39m\u001b[38;5;124mfigure.figsize\u001b[39m\u001b[38;5;124m\"\u001b[39m]\u001b[38;5;241m=\u001b[39m\u001b[38;5;241m20\u001b[39m,\u001b[38;5;241m20\u001b[39m\n\u001b[1;32m     12\u001b[0m plt\u001b[38;5;241m.\u001b[39msubplot(\u001b[38;5;241m2\u001b[39m,\u001b[38;5;241m2\u001b[39m,\u001b[38;5;241m1\u001b[39m)\n",
      "\u001b[0;31mNameError\u001b[0m: name 'im' is not defined"
     ]
    }
   ],
   "source": [
    "import cv2\n",
    "from matplotlib import pyplot as plt\n",
    "\n",
    "im_cont = cv2.imread(\"DensePoseData/densepose_contour.0001.png\")\n",
    "im_segm = cv2.imread(\"DensePoseData/densepose_segment.0001.png\")\n",
    "im_u = cv2.imread(\"DensePoseData/densepose_u.0001.png\")\n",
    "im_v = cv2.imread(\"DensePoseData/densepose_v.0001.png\")\n",
    "\n",
    "plt.rcParams[\"figure.figsize\"]=20,20\n",
    "plt.subplot(2,2,1)\n",
    "plt.imshow(im_cont[:,:,::-1])\n",
    "plt.axis('off')\n",
    "plt.title('body contour')\n",
    "\n",
    "plt.subplot(2,2,2)\n",
    "plt.imshow(im_segm[:,:,::-1])\n",
    "plt.axis('off')\n",
    "plt.title('body segmentation')\n",
    "\n",
    "plt.subplot(2,2,3)\n",
    "plt.imshow(im_u[:,:,::-1])\n",
    "plt.axis('off')\n",
    "plt.title('u coordinates')\n",
    "\n",
    "plt.subplot(2,2,4)\n",
    "plt.imshow(im_v[:,:,::-1])\n",
    "plt.axis('off')\n",
    "plt.title('v coordinates')"
   ]
  }
 ],
 "metadata": {
  "kernelspec": {
   "display_name": "Python 3 (ipykernel)",
   "language": "python",
   "name": "python3"
  },
  "language_info": {
   "codemirror_mode": {
    "name": "ipython",
    "version": 3
   },
   "file_extension": ".py",
   "mimetype": "text/x-python",
   "name": "python",
   "nbconvert_exporter": "python",
   "pygments_lexer": "ipython3",
   "version": "3.9.12"
  },
  "vscode": {
   "interpreter": {
    "hash": "31f2aee4e71d21fbe5cf8b01ff0e069b9275f58929596ceb00d14d90e3e16cd6"
   }
  }
 },
 "nbformat": 4,
 "nbformat_minor": 4
}
